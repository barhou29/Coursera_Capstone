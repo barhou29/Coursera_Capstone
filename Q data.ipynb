{
 "cells": [
  {
   "cell_type": "markdown",
   "metadata": {},
   "source": [
    "# 1. A description of the problem and a discussion of the background:\n",
    "\n",
    "In this project we are going to use the foursquare Developpers provided in this course\n",
    "to define a specific area located in Toronto, Canada and discover all areas of interest \n",
    "that a new resident would eventually eager to go, and are the nearest to his residency.\n",
    "\n",
    "\n"
   ]
  },
  {
   "cell_type": "markdown",
   "metadata": {},
   "source": [
    "# 2. A description of the data and how it will be used to solve the problem\n",
    "\n",
    "The foursquare developpers provides the landscape data with all information about \n",
    "the area of interest\n"
   ]
  },
  {
   "cell_type": "code",
   "execution_count": null,
   "metadata": {},
   "outputs": [],
   "source": []
  }
 ],
 "metadata": {
  "kernelspec": {
   "display_name": "Python 3",
   "language": "python",
   "name": "python3"
  },
  "language_info": {
   "codemirror_mode": {
    "name": "ipython",
    "version": 3
   },
   "file_extension": ".py",
   "mimetype": "text/x-python",
   "name": "python",
   "nbconvert_exporter": "python",
   "pygments_lexer": "ipython3",
   "version": "3.7.3"
  }
 },
 "nbformat": 4,
 "nbformat_minor": 2
}
